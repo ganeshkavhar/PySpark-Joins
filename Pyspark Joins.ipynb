{
 "cells": [
  {
   "cell_type": "code",
   "execution_count": 0,
   "metadata": {
    "application/vnd.databricks.v1+cell": {
     "cellMetadata": {
      "byteLimit": 2048000,
      "rowLimit": 10000
     },
     "inputWidgets": {},
     "nuid": "a8161cee-d8c4-49e5-835f-57e71364226d",
     "showTitle": false,
     "title": ""
    }
   },
   "outputs": [
    {
     "output_type": "stream",
     "name": "stdout",
     "output_type": "stream",
     "text": [
      "+------+------+-------+\n|emp_id|  name|country|\n+------+------+-------+\n|   101|  John|    USA|\n|   102|  Mike|     UK|\n|   103|Robert|    USA|\n|   104| James| Canada|\n+------+------+-------+\n\n+------+-----------+------+\n|emp_id| department|salary|\n+------+-----------+------+\n|   101|         HR|  4000|\n|   102|    Finance|  5000|\n|   105|Engineering|  6000|\n|   106|  Marketing|  3500|\n+------+-----------+------+\n\n"
     ]
    }
   ],
   "source": [
    "from pyspark.sql import SparkSession\n",
    "from pyspark.sql.functions import col\n",
    "\n",
    "# Initialize SparkSession\n",
    "spark = SparkSession.builder.appName(\"PySpark Joins\").getOrCreate()\n",
    "\n",
    "# Create DataFrame 1\n",
    "data1 = [(\"101\", \"John\", \"USA\"),\n",
    "         (\"102\", \"Mike\", \"UK\"),\n",
    "         (\"103\", \"Robert\", \"USA\"),\n",
    "         (\"104\", \"James\", \"Canada\")]\n",
    "\n",
    "df1 = spark.createDataFrame(data1, [\"emp_id\", \"name\", \"country\"])\n",
    "\n",
    "# Create DataFrame 2\n",
    "data2 = [(\"101\", \"HR\", 4000),\n",
    "         (\"102\", \"Finance\", 5000),\n",
    "         (\"105\", \"Engineering\", 6000),\n",
    "         (\"106\", \"Marketing\", 3500)]\n",
    "\n",
    "df2 = spark.createDataFrame(data2, [\"emp_id\", \"department\", \"salary\"])\n",
    "\n",
    "df1.show()\n",
    "df2.show()"
   ]
  },
  {
   "cell_type": "markdown",
   "metadata": {
    "application/vnd.databricks.v1+cell": {
     "cellMetadata": {},
     "inputWidgets": {},
     "nuid": "ac792b21-8cab-471b-a262-0c6ca836d494",
     "showTitle": false,
     "title": ""
    }
   },
   "source": [
    "## Inner Join\n",
    "* Inner Join: Matches rows in both DataFrames."
   ]
  },
  {
   "cell_type": "code",
   "execution_count": 0,
   "metadata": {
    "application/vnd.databricks.v1+cell": {
     "cellMetadata": {
      "byteLimit": 2048000,
      "rowLimit": 10000
     },
     "inputWidgets": {},
     "nuid": "c437a12a-0d46-4fc3-bbed-5ef7a988f41b",
     "showTitle": false,
     "title": ""
    }
   },
   "outputs": [
    {
     "output_type": "stream",
     "name": "stdout",
     "output_type": "stream",
     "text": [
      "+------+----+-------+------+----------+------+\n|emp_id|name|country|emp_id|department|salary|\n+------+----+-------+------+----------+------+\n|   101|John|    USA|   101|        HR|  4000|\n|   102|Mike|     UK|   102|   Finance|  5000|\n+------+----+-------+------+----------+------+\n\n"
     ]
    }
   ],
   "source": [
    "inner_join = df1.join(df2, df1.emp_id == df2.emp_id, \"inner\")\n",
    "inner_join.show()\n"
   ]
  },
  {
   "cell_type": "markdown",
   "metadata": {
    "application/vnd.databricks.v1+cell": {
     "cellMetadata": {},
     "inputWidgets": {},
     "nuid": "71c3e43d-110c-4a64-b985-fedde34620da",
     "showTitle": false,
     "title": ""
    }
   },
   "source": [
    "##Left Join\n",
    "* Left Join: Keeps all rows from the left DataFrame and matches from the right.\n"
   ]
  },
  {
   "cell_type": "code",
   "execution_count": 0,
   "metadata": {
    "application/vnd.databricks.v1+cell": {
     "cellMetadata": {
      "byteLimit": 2048000,
      "rowLimit": 10000
     },
     "inputWidgets": {},
     "nuid": "532c085b-43ae-4fec-8860-7669aeb4dfa2",
     "showTitle": false,
     "title": ""
    }
   },
   "outputs": [
    {
     "output_type": "stream",
     "name": "stdout",
     "output_type": "stream",
     "text": [
      "+------+------+-------+------+----------+------+\n|emp_id|  name|country|emp_id|department|salary|\n+------+------+-------+------+----------+------+\n|   101|  John|    USA|   101|        HR|  4000|\n|   102|  Mike|     UK|   102|   Finance|  5000|\n|   103|Robert|    USA|  null|      null|  null|\n|   104| James| Canada|  null|      null|  null|\n+------+------+-------+------+----------+------+\n\n"
     ]
    }
   ],
   "source": [
    "inner_join = df1.join(df2, df1.emp_id == df2.emp_id, \"left\")\n",
    "inner_join.show()\n"
   ]
  },
  {
   "cell_type": "markdown",
   "metadata": {
    "application/vnd.databricks.v1+cell": {
     "cellMetadata": {},
     "inputWidgets": {},
     "nuid": "127e8786-418c-4ab9-a2e8-40fbcf6355dd",
     "showTitle": false,
     "title": ""
    }
   },
   "source": [
    "##Right Join\n",
    "* Right Join: Keeps all rows from the right DataFrame and matches from the left.\n"
   ]
  },
  {
   "cell_type": "code",
   "execution_count": 0,
   "metadata": {
    "application/vnd.databricks.v1+cell": {
     "cellMetadata": {
      "byteLimit": 2048000,
      "rowLimit": 10000
     },
     "inputWidgets": {},
     "nuid": "536f6d6f-7076-45f2-abc2-e8a8366d44e5",
     "showTitle": false,
     "title": ""
    }
   },
   "outputs": [
    {
     "output_type": "stream",
     "name": "stdout",
     "output_type": "stream",
     "text": [
      "+------+----+-------+------+-----------+------+\n|emp_id|name|country|emp_id| department|salary|\n+------+----+-------+------+-----------+------+\n|   101|John|    USA|   101|         HR|  4000|\n|   102|Mike|     UK|   102|    Finance|  5000|\n|  null|null|   null|   105|Engineering|  6000|\n|  null|null|   null|   106|  Marketing|  3500|\n+------+----+-------+------+-----------+------+\n\n"
     ]
    }
   ],
   "source": [
    "inner_join = df1.join(df2, df1.emp_id == df2.emp_id, \"right\")\n",
    "inner_join.show()\n"
   ]
  },
  {
   "cell_type": "markdown",
   "metadata": {
    "application/vnd.databricks.v1+cell": {
     "cellMetadata": {},
     "inputWidgets": {},
     "nuid": "449452ec-d269-4673-b468-120fccbf20c2",
     "showTitle": false,
     "title": ""
    }
   },
   "source": [
    "## Full Outer Join\n",
    "* Full Outer Join: Keeps all rows from both DataFrames, with NULL for missing matches.\n"
   ]
  },
  {
   "cell_type": "code",
   "execution_count": 0,
   "metadata": {
    "application/vnd.databricks.v1+cell": {
     "cellMetadata": {
      "byteLimit": 2048000,
      "rowLimit": 10000
     },
     "inputWidgets": {},
     "nuid": "18e5b648-d36c-4fb7-bd5a-1a15a186097b",
     "showTitle": false,
     "title": ""
    }
   },
   "outputs": [
    {
     "output_type": "stream",
     "name": "stdout",
     "output_type": "stream",
     "text": [
      "+------+------+-------+------+-----------+------+\n|emp_id|  name|country|emp_id| department|salary|\n+------+------+-------+------+-----------+------+\n|   101|  John|    USA|   101|         HR|  4000|\n|   102|  Mike|     UK|   102|    Finance|  5000|\n|   103|Robert|    USA|  null|       null|  null|\n|   104| James| Canada|  null|       null|  null|\n|  null|  null|   null|   105|Engineering|  6000|\n|  null|  null|   null|   106|  Marketing|  3500|\n+------+------+-------+------+-----------+------+\n\n"
     ]
    }
   ],
   "source": [
    "inner_join = df1.join(df2, df1.emp_id == df2.emp_id, \"outer\")\n",
    "inner_join.show()\n"
   ]
  },
  {
   "cell_type": "markdown",
   "metadata": {
    "application/vnd.databricks.v1+cell": {
     "cellMetadata": {},
     "inputWidgets": {},
     "nuid": "92154f1c-a1ae-4cb3-a1fa-fba32a1848b2",
     "showTitle": false,
     "title": ""
    }
   },
   "source": [
    "##Cross join\n",
    "* Cross Join: Produces the Cartesian product."
   ]
  },
  {
   "cell_type": "code",
   "execution_count": 0,
   "metadata": {
    "application/vnd.databricks.v1+cell": {
     "cellMetadata": {
      "byteLimit": 2048000,
      "rowLimit": 10000
     },
     "inputWidgets": {},
     "nuid": "58eb8ae3-b1e2-441f-9590-237265bec046",
     "showTitle": false,
     "title": ""
    }
   },
   "outputs": [
    {
     "output_type": "stream",
     "name": "stdout",
     "output_type": "stream",
     "text": [
      "+------+------+-------+------+-----------+------+\n|emp_id|  name|country|emp_id| department|salary|\n+------+------+-------+------+-----------+------+\n|   101|  John|    USA|   101|         HR|  4000|\n|   101|  John|    USA|   102|    Finance|  5000|\n|   101|  John|    USA|   105|Engineering|  6000|\n|   101|  John|    USA|   106|  Marketing|  3500|\n|   102|  Mike|     UK|   101|         HR|  4000|\n|   102|  Mike|     UK|   102|    Finance|  5000|\n|   102|  Mike|     UK|   105|Engineering|  6000|\n|   102|  Mike|     UK|   106|  Marketing|  3500|\n|   103|Robert|    USA|   101|         HR|  4000|\n|   103|Robert|    USA|   102|    Finance|  5000|\n|   103|Robert|    USA|   105|Engineering|  6000|\n|   103|Robert|    USA|   106|  Marketing|  3500|\n|   104| James| Canada|   101|         HR|  4000|\n|   104| James| Canada|   102|    Finance|  5000|\n|   104| James| Canada|   105|Engineering|  6000|\n|   104| James| Canada|   106|  Marketing|  3500|\n+------+------+-------+------+-----------+------+\n\n"
     ]
    }
   ],
   "source": [
    "cross_join = df1.crossJoin(df2)\n",
    "cross_join.show()"
   ]
  },
  {
   "cell_type": "markdown",
   "metadata": {
    "application/vnd.databricks.v1+cell": {
     "cellMetadata": {},
     "inputWidgets": {},
     "nuid": "b265010c-32f5-4e31-8c1e-bcacddab7872",
     "showTitle": false,
     "title": ""
    }
   },
   "source": [
    "## Self Join\n",
    "* Self Join: Joins a DataFrame to itself.\n"
   ]
  },
  {
   "cell_type": "code",
   "execution_count": 0,
   "metadata": {
    "application/vnd.databricks.v1+cell": {
     "cellMetadata": {
      "byteLimit": 2048000,
      "rowLimit": 10000
     },
     "inputWidgets": {},
     "nuid": "3ca482ef-8e79-4284-bead-12c37635a1bc",
     "showTitle": false,
     "title": ""
    }
   },
   "outputs": [
    {
     "output_type": "stream",
     "name": "stdout",
     "output_type": "stream",
     "text": [
      "+------+------+-------+------+------+-------+\n|emp_id|  name|country|emp_id|  name|country|\n+------+------+-------+------+------+-------+\n|   104| James| Canada|   104| James| Canada|\n|   102|  Mike|     UK|   102|  Mike|     UK|\n|   101|  John|    USA|   101|  John|    USA|\n|   101|  John|    USA|   103|Robert|    USA|\n|   103|Robert|    USA|   101|  John|    USA|\n|   103|Robert|    USA|   103|Robert|    USA|\n+------+------+-------+------+------+-------+\n\n"
     ]
    }
   ],
   "source": [
    "self_join = df1.alias(\"df1\").join(df1.alias(\"df2\"), col(\"df1.country\") == col(\"df2.country\"))\n",
    "self_join.show()"
   ]
  },
  {
   "cell_type": "markdown",
   "metadata": {
    "application/vnd.databricks.v1+cell": {
     "cellMetadata": {},
     "inputWidgets": {},
     "nuid": "ae19c1f2-5d75-4847-a3b3-079852148429",
     "showTitle": false,
     "title": ""
    }
   },
   "source": [
    "##Anti Join\n",
    "* Anti Join: Returns unmatched rows from the left DataFrame.\n"
   ]
  },
  {
   "cell_type": "code",
   "execution_count": 0,
   "metadata": {
    "application/vnd.databricks.v1+cell": {
     "cellMetadata": {
      "byteLimit": 2048000,
      "rowLimit": 10000
     },
     "inputWidgets": {},
     "nuid": "255a77df-2e8e-4b13-ba81-7cf3ea96fb4d",
     "showTitle": false,
     "title": ""
    }
   },
   "outputs": [
    {
     "output_type": "stream",
     "name": "stdout",
     "output_type": "stream",
     "text": [
      "+------+------+-------+\n|emp_id|  name|country|\n+------+------+-------+\n|   103|Robert|    USA|\n|   104| James| Canada|\n+------+------+-------+\n\n"
     ]
    }
   ],
   "source": [
    "anti_join = df1.join(df2, df1.emp_id == df2.emp_id, \"left_anti\")\n",
    "anti_join.show()"
   ]
  },
  {
   "cell_type": "markdown",
   "metadata": {
    "application/vnd.databricks.v1+cell": {
     "cellMetadata": {},
     "inputWidgets": {},
     "nuid": "2b56e184-46e2-42aa-976e-92da0881fbb6",
     "showTitle": false,
     "title": ""
    }
   },
   "source": [
    "##Semi join\n",
    "* Semi Join: Returns matched rows from the left DataFrame, but not any columns from the right.\n"
   ]
  },
  {
   "cell_type": "code",
   "execution_count": 0,
   "metadata": {
    "application/vnd.databricks.v1+cell": {
     "cellMetadata": {
      "byteLimit": 2048000,
      "rowLimit": 10000
     },
     "inputWidgets": {},
     "nuid": "13a77b54-691c-4d80-96cb-77238127f6bb",
     "showTitle": false,
     "title": ""
    }
   },
   "outputs": [
    {
     "output_type": "stream",
     "name": "stdout",
     "output_type": "stream",
     "text": [
      "+------+----+-------+\n|emp_id|name|country|\n+------+----+-------+\n|   101|John|    USA|\n|   102|Mike|     UK|\n+------+----+-------+\n\n"
     ]
    }
   ],
   "source": [
    "semi_join = df1.join(df2, df1.emp_id == df2.emp_id, \"left_semi\")\n",
    "semi_join.show()"
   ]
  }
 ],
 "metadata": {
  "application/vnd.databricks.v1+notebook": {
   "dashboards": [],
   "environmentMetadata": null,
   "language": "python",
   "notebookMetadata": {
    "pythonIndentUnit": 4
   },
   "notebookName": "Pyspark Joins",
   "widgets": {}
  }
 },
 "nbformat": 4,
 "nbformat_minor": 0
}
